{
 "cells": [
  {
   "cell_type": "code",
   "execution_count": 1,
   "metadata": {
    "collapsed": true
   },
   "outputs": [],
   "source": [
    "import tensorflow as tf\n",
    "import numpy as np\n",
    "import time\n",
    "import sys \n",
    "import os"
   ]
  },
  {
   "cell_type": "code",
   "execution_count": 7,
   "metadata": {},
   "outputs": [],
   "source": [
    "class DCGAN(object):\n",
    "    \n",
    "    def __init__(self, input, alpha=0.2):\n",
    "        self.input = input\n",
    "        self.alpha = alpha\n",
    "        \n",
    "    def _leakyRelu(self, input, alpha, name='leakyRelu'):\n",
    "        return tf.maximum(input, alpha * input)\n",
    "        \n",
    "    def _D_conv2d_bn(self, input, output_num, filter_size, stride, is_training=False, name=None):\n",
    "        with tf.variable_scope(name) as scope:\n",
    "            conv = tf.contrib.layers.conv2d(input, output_num, filter_size, stride, \n",
    "                                            'SAME', activation_fn=None, biases_initializer=None) \n",
    "            bn = tf.contrib.layers.batch_norm(inputs=conv, is_training=is_training, activation_fn=None)\n",
    "            return self._leakyRelu(bn, self.alpha)\n",
    "        \n",
    "    def discriminator(self, input, y=None, reuse=False, is_training=False):\n",
    "        # LeNet-like discriminator\n",
    "        with tf.variable_scope(\"discriminator\") as scope:\n",
    "            if reuse:\n",
    "                scope.reuse_variables()\n",
    "            # d_1 = tf.contrib.layers.conv2d(input, 6, 3, 2, 'SAME')\n",
    "            # d_2 = tf.contrib.layers.conv2d(d_1, )\n",
    "            d_1 = self._D_conv2d_bn(input, 8, 3, 2, is_training, name=\"D_conv1\") # => [None, 14, 14, 8]\n",
    "            d_2 = self._D_conv2d_bn(d_1, 16, 3, 2, is_training, name=\"D_conv2\")  # => [None, 7, 7, 16]\n",
    "            d_3 = tf.contrib.layers.flatten(d_2)\n",
    "            d_4 = tf.contrib.layers.fully_connected(d_3, num_outputs=1, activation_fn=None, scope=\"D_linear\")\n",
    "            return tf.nn.sigmoid(d_4, name=\"D_output\"), d_2\n",
    "    def generator():\n",
    "        pass\n",
    "    def build():\n",
    "        pass\n",
    "    def train(self):\n",
    "        D, DD = self.discriminator(self.input, None, False, False)\n",
    "        return D, DD\n",
    "    def evaluate():\n",
    "        pass\n",
    "    def test():\n",
    "        pass"
   ]
  },
  {
   "cell_type": "code",
   "execution_count": 8,
   "metadata": {
    "collapsed": true
   },
   "outputs": [],
   "source": [
    "tf.reset_default_graph()"
   ]
  },
  {
   "cell_type": "code",
   "execution_count": 9,
   "metadata": {
    "scrolled": true
   },
   "outputs": [],
   "source": [
    "test_input = tf.placeholder(shape=[None, 28, 28, 1], dtype=tf.float32)\n",
    "\n",
    "test_model = DCGAN(test_input, 0.2)\n"
   ]
  },
  {
   "cell_type": "code",
   "execution_count": 10,
   "metadata": {},
   "outputs": [
    {
     "data": {
      "text/plain": [
       "(<tf.Tensor 'discriminator/D_output:0' shape=(?, 1) dtype=float32>,\n",
       " <tf.Tensor 'discriminator/D_conv2/Maximum:0' shape=(?, 7, 7, 16) dtype=float32>)"
      ]
     },
     "execution_count": 10,
     "metadata": {},
     "output_type": "execute_result"
    }
   ],
   "source": [
    "test_model.train()"
   ]
  },
  {
   "cell_type": "code",
   "execution_count": 6,
   "metadata": {},
   "outputs": [
    {
     "name": "stdout",
     "output_type": "stream",
     "text": [
      "discriminator/D_conv1/Conv/weights:0\n",
      "discriminator/D_conv1/BatchNorm/beta:0\n",
      "discriminator/D_conv2/Conv/weights:0\n",
      "discriminator/D_conv2/BatchNorm/beta:0\n",
      "discriminator/D_linear/weights:0\n",
      "discriminator/D_linear/biases:0\n"
     ]
    }
   ],
   "source": [
    "for i in tf.trainable_variables():\n",
    "    print(i.name)"
   ]
  },
  {
   "cell_type": "code",
   "execution_count": 41,
   "metadata": {},
   "outputs": [
    {
     "data": {
      "text/plain": [
       "[<tf.Variable 'discriminator/D_conv1/Conv/weights:0' shape=(3, 3, 1, 8) dtype=float32_ref>,\n",
       " <tf.Variable 'discriminator/D_conv1/BatchNorm/beta:0' shape=(8,) dtype=float32_ref>,\n",
       " <tf.Variable 'discriminator/D_conv1/BatchNorm/moving_mean:0' shape=(8,) dtype=float32_ref>,\n",
       " <tf.Variable 'discriminator/D_conv1/BatchNorm/moving_variance:0' shape=(8,) dtype=float32_ref>,\n",
       " <tf.Variable 'discriminator/D_conv2/Conv/weights:0' shape=(3, 3, 8, 16) dtype=float32_ref>,\n",
       " <tf.Variable 'discriminator/D_conv2/BatchNorm/beta:0' shape=(16,) dtype=float32_ref>,\n",
       " <tf.Variable 'discriminator/D_conv2/BatchNorm/moving_mean:0' shape=(16,) dtype=float32_ref>,\n",
       " <tf.Variable 'discriminator/D_conv2/BatchNorm/moving_variance:0' shape=(16,) dtype=float32_ref>,\n",
       " <tf.Variable 'discriminator/D_linear/weights:0' shape=(784, 1) dtype=float32_ref>,\n",
       " <tf.Variable 'discriminator/D_linear/biases:0' shape=(1,) dtype=float32_ref>]"
      ]
     },
     "execution_count": 41,
     "metadata": {},
     "output_type": "execute_result"
    }
   ],
   "source": [
    "tf.get_collection(tf.GraphKeys.GLOBAL_VARIABLES, scope=\"discriminator\")"
   ]
  },
  {
   "cell_type": "code",
   "execution_count": 3,
   "metadata": {},
   "outputs": [
    {
     "name": "stdout",
     "output_type": "stream",
     "text": [
      "test\n"
     ]
    }
   ],
   "source": [
    "if __name__ == \"__main__\":\n",
    "    # build()\n",
    "    # train()"
   ]
  },
  {
   "cell_type": "code",
   "execution_count": 4,
   "metadata": {
    "collapsed": true
   },
   "outputs": [],
   "source": [
    "dataset = np.load(\"mnist.npz\")"
   ]
  },
  {
   "cell_type": "code",
   "execution_count": 7,
   "metadata": {},
   "outputs": [
    {
     "data": {
      "text/plain": [
       "(60000, 28, 28)"
      ]
     },
     "execution_count": 7,
     "metadata": {},
     "output_type": "execute_result"
    }
   ],
   "source": [
    "dataset['x_train'].shape"
   ]
  },
  {
   "cell_type": "code",
   "execution_count": 7,
   "metadata": {
    "collapsed": true
   },
   "outputs": [],
   "source": []
  },
  {
   "cell_type": "code",
   "execution_count": null,
   "metadata": {
    "collapsed": true
   },
   "outputs": [],
   "source": []
  }
 ],
 "metadata": {
  "kernelspec": {
   "display_name": "Python 3",
   "language": "python",
   "name": "python3"
  },
  "language_info": {
   "codemirror_mode": {
    "name": "ipython",
    "version": 3
   },
   "file_extension": ".py",
   "mimetype": "text/x-python",
   "name": "python",
   "nbconvert_exporter": "python",
   "pygments_lexer": "ipython3",
   "version": "3.5.3"
  }
 },
 "nbformat": 4,
 "nbformat_minor": 2
}
